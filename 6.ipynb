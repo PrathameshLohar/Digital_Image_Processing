{
 "cells": [
  {
   "cell_type": "code",
   "execution_count": 2,
   "metadata": {},
   "outputs": [
    {
     "name": "stdout",
     "output_type": "stream",
     "text": [
      "Image Dimensions: 1920x1195\n",
      "Minimum Pixel Value: 0\n",
      "Maximum Pixel Value: 255\n",
      "Mean Pixel Value: 45.63518610529986\n"
     ]
    }
   ],
   "source": [
    "\n",
    "import numpy as np\n",
    "import cv2 # OpenCV library for image processing\n",
    "# Load an image using OpenCV\n",
    "image = cv2.imread('tree.jpg', cv2.IMREAD_GRAYSCALE)\n",
    "# Basic image properties\n",
    "height, width = image.shape\n",
    "print(f\"Image Dimensions: {width}x{height}\")\n",
    "print(f\"Minimum Pixel Value: {np.min(image)}\")\n",
    "print(f\"Maximum Pixel Value: {np.max(image)}\")\n",
    "print(f\"Mean Pixel Value: {np.mean(image)}\")"
   ]
  }
 ],
 "metadata": {
  "kernelspec": {
   "display_name": "DIP-EXP",
   "language": "python",
   "name": "python3"
  },
  "language_info": {
   "codemirror_mode": {
    "name": "ipython",
    "version": 3
   },
   "file_extension": ".py",
   "mimetype": "text/x-python",
   "name": "python",
   "nbconvert_exporter": "python",
   "pygments_lexer": "ipython3",
   "version": "3.11.0"
  },
  "orig_nbformat": 4
 },
 "nbformat": 4,
 "nbformat_minor": 2
}
